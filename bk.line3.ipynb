{
 "cells": [
  {
   "cell_type": "code",
   "execution_count": 27,
   "metadata": {},
   "outputs": [],
   "source": [
    "from bokeh.io import output_notebook, show, curdoc, push_notebook,output_file\n",
    "from bokeh.plotting import figure\n",
    "from bokeh.models import ColumnDataSource, Select\n",
    "from bokeh.models.widgets import Dropdown\n",
    "from bokeh.layouts import widgetbox, column, row\n",
    "from ipywidgets import interact\n",
    "import pandas as pd\n",
    "import numpy as np\n",
    "#output_file(\"test.html\")\n"
   ]
  },
  {
   "cell_type": "code",
   "execution_count": 28,
   "metadata": {},
   "outputs": [],
   "source": [
    "path=r'C:\\Users\\mattk\\Documents\\Projects\\Import_XML\\Pickle\\Swaption_Results.pkl'\n",
    "path2=r'C:\\Users\\mattk\\Documents\\Projects\\Import_XML\\Out_csv2\\Swaptions_results2.txt'"
   ]
  },
  {
   "cell_type": "code",
   "execution_count": 29,
   "metadata": {},
   "outputs": [],
   "source": [
    "df = pd.read_pickle(path)\n",
    "df2 = pd.read_csv(path2,parse_dates=['ValueDate','ExerciseDate'])"
   ]
  },
  {
   "cell_type": "code",
   "execution_count": 30,
   "metadata": {},
   "outputs": [],
   "source": [
    "df['ValueDate']=pd.to_datetime(df['ValueDate'])\n",
    "df['ExerciseDate']=pd.to_datetime(df['ExerciseDate'])"
   ]
  },
  {
   "cell_type": "code",
   "execution_count": 31,
   "metadata": {},
   "outputs": [
    {
     "data": {
      "text/plain": [
       "ValueDate                     datetime64[ns]\n",
       "ClientForward                        float64\n",
       "ClientImpliedVolatility              float64\n",
       "ClientPrice                          float64\n",
       "ConsensusForward                     float64\n",
       "ImpliedConsensusVolatility           float64\n",
       "ConsensusPrice                       float64\n",
       "ExerciseDate                  datetime64[ns]\n",
       "OptionType                            object\n",
       "StandardDeviationPrice               float64\n",
       "StrikeRelative                        object\n",
       "Tenor                                float64\n",
       "Exp                                   object\n",
       "dtype: object"
      ]
     },
     "execution_count": 31,
     "metadata": {},
     "output_type": "execute_result"
    }
   ],
   "source": [
    "df.dtypes"
   ]
  },
  {
   "cell_type": "code",
   "execution_count": 32,
   "metadata": {},
   "outputs": [
    {
     "data": {
      "text/plain": [
       "14"
      ]
     },
     "execution_count": 32,
     "metadata": {},
     "output_type": "execute_result"
    }
   ],
   "source": [
    "len(df['Tenor'].unique().tolist())"
   ]
  },
  {
   "cell_type": "code",
   "execution_count": 33,
   "metadata": {},
   "outputs": [
    {
     "data": {
      "text/plain": [
       "[12.0,\n",
       " 24.0,\n",
       " 36.0,\n",
       " 48.0,\n",
       " 60.0,\n",
       " 72.0,\n",
       " 84.0,\n",
       " 96.0,\n",
       " 108.0,\n",
       " 120.0,\n",
       " 180.0,\n",
       " 240.0,\n",
       " 300.0,\n",
       " 360.0]"
      ]
     },
     "execution_count": 33,
     "metadata": {},
     "output_type": "execute_result"
    }
   ],
   "source": [
    "df['Tenor'].unique().tolist()"
   ]
  },
  {
   "cell_type": "code",
   "execution_count": 34,
   "metadata": {},
   "outputs": [],
   "source": [
    "df['Tail'] = df['Tenor']/12"
   ]
  },
  {
   "cell_type": "code",
   "execution_count": 35,
   "metadata": {},
   "outputs": [],
   "source": [
    "df['Tail']=df['Tail'].astype(str) + 'Y'"
   ]
  },
  {
   "cell_type": "code",
   "execution_count": 36,
   "metadata": {},
   "outputs": [],
   "source": [
    "tails=list(df['Tail'].unique().tolist())"
   ]
  },
  {
   "cell_type": "code",
   "execution_count": 37,
   "metadata": {},
   "outputs": [
    {
     "data": {
      "text/plain": [
       "['1.0Y',\n",
       " '2.0Y',\n",
       " '3.0Y',\n",
       " '4.0Y',\n",
       " '5.0Y',\n",
       " '6.0Y',\n",
       " '7.0Y',\n",
       " '8.0Y',\n",
       " '9.0Y',\n",
       " '10.0Y',\n",
       " '15.0Y',\n",
       " '20.0Y',\n",
       " '25.0Y',\n",
       " '30.0Y']"
      ]
     },
     "execution_count": 37,
     "metadata": {},
     "output_type": "execute_result"
    }
   ],
   "source": [
    "tails"
   ]
  },
  {
   "cell_type": "code",
   "execution_count": 41,
   "metadata": {},
   "outputs": [],
   "source": [
    "ff=df[\n",
    "    (df[\"Exp\"]==\"1y\")&\n",
    "    (df[\"Tail\"]=='10.0Y')\n",
    "    ]"
   ]
  },
  {
   "cell_type": "code",
   "execution_count": 42,
   "metadata": {
    "scrolled": true
   },
   "outputs": [
    {
     "data": {
      "text/html": [
       "<div>\n",
       "<style scoped>\n",
       "    .dataframe tbody tr th:only-of-type {\n",
       "        vertical-align: middle;\n",
       "    }\n",
       "\n",
       "    .dataframe tbody tr th {\n",
       "        vertical-align: top;\n",
       "    }\n",
       "\n",
       "    .dataframe thead th {\n",
       "        text-align: right;\n",
       "    }\n",
       "</style>\n",
       "<table border=\"1\" class=\"dataframe\">\n",
       "  <thead>\n",
       "    <tr style=\"text-align: right;\">\n",
       "      <th></th>\n",
       "      <th>ValueDate</th>\n",
       "      <th>ClientForward</th>\n",
       "      <th>ClientImpliedVolatility</th>\n",
       "      <th>ClientPrice</th>\n",
       "      <th>ConsensusForward</th>\n",
       "      <th>ImpliedConsensusVolatility</th>\n",
       "      <th>ConsensusPrice</th>\n",
       "      <th>ExerciseDate</th>\n",
       "      <th>OptionType</th>\n",
       "      <th>StandardDeviationPrice</th>\n",
       "      <th>StrikeRelative</th>\n",
       "      <th>Tenor</th>\n",
       "      <th>Exp</th>\n",
       "      <th>Tail</th>\n",
       "    </tr>\n",
       "  </thead>\n",
       "  <tbody>\n",
       "    <tr>\n",
       "      <th>1974</th>\n",
       "      <td>2017-04-28</td>\n",
       "      <td>2.399824</td>\n",
       "      <td>76.465100</td>\n",
       "      <td>107.402141</td>\n",
       "      <td>2.399268</td>\n",
       "      <td>76.165390</td>\n",
       "      <td>106.602385</td>\n",
       "      <td>2018-04-30</td>\n",
       "      <td>Receiver</td>\n",
       "      <td>0.971794</td>\n",
       "      <td>-50</td>\n",
       "      <td>120.0</td>\n",
       "      <td>1y</td>\n",
       "      <td>10.0Y</td>\n",
       "    </tr>\n",
       "    <tr>\n",
       "      <th>1975</th>\n",
       "      <td>2017-04-28</td>\n",
       "      <td>2.399824</td>\n",
       "      <td>75.530907</td>\n",
       "      <td>175.204721</td>\n",
       "      <td>2.399268</td>\n",
       "      <td>75.459544</td>\n",
       "      <td>174.944237</td>\n",
       "      <td>2018-04-30</td>\n",
       "      <td>Receiver</td>\n",
       "      <td>0.748627</td>\n",
       "      <td>-25</td>\n",
       "      <td>120.0</td>\n",
       "      <td>1y</td>\n",
       "      <td>10.0Y</td>\n",
       "    </tr>\n",
       "    <tr>\n",
       "      <th>1976</th>\n",
       "      <td>2017-04-28</td>\n",
       "      <td>2.399824</td>\n",
       "      <td>85.087448</td>\n",
       "      <td>12.239091</td>\n",
       "      <td>2.399258</td>\n",
       "      <td>82.247831</td>\n",
       "      <td>10.153507</td>\n",
       "      <td>2018-04-30</td>\n",
       "      <td>Receiver</td>\n",
       "      <td>0.713724</td>\n",
       "      <td>-150</td>\n",
       "      <td>120.0</td>\n",
       "      <td>1y</td>\n",
       "      <td>10.0Y</td>\n",
       "    </tr>\n",
       "    <tr>\n",
       "      <th>1977</th>\n",
       "      <td>2017-04-28</td>\n",
       "      <td>2.399824</td>\n",
       "      <td>79.998323</td>\n",
       "      <td>36.999676</td>\n",
       "      <td>2.399269</td>\n",
       "      <td>78.848795</td>\n",
       "      <td>35.088025</td>\n",
       "      <td>2018-04-30</td>\n",
       "      <td>Receiver</td>\n",
       "      <td>0.982367</td>\n",
       "      <td>-100</td>\n",
       "      <td>120.0</td>\n",
       "      <td>1y</td>\n",
       "      <td>10.0Y</td>\n",
       "    </tr>\n",
       "    <tr>\n",
       "      <th>1978</th>\n",
       "      <td>2017-04-28</td>\n",
       "      <td>2.399824</td>\n",
       "      <td>75.333460</td>\n",
       "      <td>273.030455</td>\n",
       "      <td>2.399268</td>\n",
       "      <td>75.323350</td>\n",
       "      <td>272.902837</td>\n",
       "      <td>2018-04-30</td>\n",
       "      <td>Receiver</td>\n",
       "      <td>0.495255</td>\n",
       "      <td>ATM</td>\n",
       "      <td>120.0</td>\n",
       "      <td>1y</td>\n",
       "      <td>10.0Y</td>\n",
       "    </tr>\n",
       "    <tr>\n",
       "      <th>1979</th>\n",
       "      <td>2017-04-28</td>\n",
       "      <td>2.399824</td>\n",
       "      <td>78.028807</td>\n",
       "      <td>63.681255</td>\n",
       "      <td>2.399268</td>\n",
       "      <td>77.343056</td>\n",
       "      <td>62.247131</td>\n",
       "      <td>2018-04-30</td>\n",
       "      <td>Receiver</td>\n",
       "      <td>1.072642</td>\n",
       "      <td>-75</td>\n",
       "      <td>120.0</td>\n",
       "      <td>1y</td>\n",
       "      <td>10.0Y</td>\n",
       "    </tr>\n",
       "  </tbody>\n",
       "</table>\n",
       "</div>"
      ],
      "text/plain": [
       "      ValueDate  ClientForward  ClientImpliedVolatility  ClientPrice  \\\n",
       "1974 2017-04-28       2.399824                76.465100   107.402141   \n",
       "1975 2017-04-28       2.399824                75.530907   175.204721   \n",
       "1976 2017-04-28       2.399824                85.087448    12.239091   \n",
       "1977 2017-04-28       2.399824                79.998323    36.999676   \n",
       "1978 2017-04-28       2.399824                75.333460   273.030455   \n",
       "1979 2017-04-28       2.399824                78.028807    63.681255   \n",
       "\n",
       "      ConsensusForward  ImpliedConsensusVolatility  ConsensusPrice  \\\n",
       "1974          2.399268                   76.165390      106.602385   \n",
       "1975          2.399268                   75.459544      174.944237   \n",
       "1976          2.399258                   82.247831       10.153507   \n",
       "1977          2.399269                   78.848795       35.088025   \n",
       "1978          2.399268                   75.323350      272.902837   \n",
       "1979          2.399268                   77.343056       62.247131   \n",
       "\n",
       "     ExerciseDate OptionType  StandardDeviationPrice StrikeRelative  Tenor  \\\n",
       "1974   2018-04-30   Receiver                0.971794            -50  120.0   \n",
       "1975   2018-04-30   Receiver                0.748627            -25  120.0   \n",
       "1976   2018-04-30   Receiver                0.713724           -150  120.0   \n",
       "1977   2018-04-30   Receiver                0.982367           -100  120.0   \n",
       "1978   2018-04-30   Receiver                0.495255            ATM  120.0   \n",
       "1979   2018-04-30   Receiver                1.072642            -75  120.0   \n",
       "\n",
       "     Exp   Tail  \n",
       "1974  1y  10.0Y  \n",
       "1975  1y  10.0Y  \n",
       "1976  1y  10.0Y  \n",
       "1977  1y  10.0Y  \n",
       "1978  1y  10.0Y  \n",
       "1979  1y  10.0Y  "
      ]
     },
     "execution_count": 42,
     "metadata": {},
     "output_type": "execute_result"
    }
   ],
   "source": [
    "ff.head(6)"
   ]
  },
  {
   "cell_type": "code",
   "execution_count": 94,
   "metadata": {},
   "outputs": [],
   "source": [
    "sort  = ff['StrikeRelative'].unique()\n",
    "sort2 = [0.0 if x == 'ATM' else x for x in sort]\n",
    "sort2 = list(map(int,sort2))\n",
    "sort2.sort()\n",
    "sort2 = list(map(str,sort2))\n",
    "sort2 = ['ATM' if x == '0' else x for x in sort2]"
   ]
  },
  {
   "cell_type": "code",
   "execution_count": 14,
   "metadata": {},
   "outputs": [],
   "source": [
    "source = ColumnDataSource(data=dict(x=[],y=[]))"
   ]
  },
  {
   "cell_type": "code",
   "execution_count": 15,
   "metadata": {},
   "outputs": [],
   "source": [
    "skews = df['StrikeRelative'].unique().tolist()"
   ]
  },
  {
   "cell_type": "code",
   "execution_count": 16,
   "metadata": {},
   "outputs": [],
   "source": [
    "menu1 = Select(options=df['Exp'].unique().tolist(),value='1y',title='Expiry')\n",
    "menu2 = Select(options=tails,value='10.0Y',title='Tail')\n",
    "menu3 = Select(options=skews,value='ATM',title='Strike')\n",
    "# new menu3 = Select(options=source.data['StrikeRelative'].unique().tolist(),value='ATM',title='Strike')\n",
    "#menu4 = Select(options=df['OptionType'].unique().tolist(),value='Payer',title='Payer/Receiver')\n"
   ]
  },
  {
   "cell_type": "code",
   "execution_count": 98,
   "metadata": {},
   "outputs": [
    {
     "data": {
      "text/html": [
       "<div style=\"display: table;\"><div style=\"display: table-row;\"><div style=\"display: table-cell;\"><b title=\"bokeh.models.renderers.GlyphRenderer\">GlyphRenderer</b>(</div><div style=\"display: table-cell;\">id&nbsp;=&nbsp;'11e5daa8-9970-4933-a7e3-3fc825162460', <span id=\"8b4b8cac-07e7-414d-8152-1f03e7503685\" style=\"cursor: pointer;\">&hellip;)</span></div></div><div class=\"ff2365b5-8794-4bb2-92f3-6f78546437c6\" style=\"display: none;\"><div style=\"display: table-cell;\"></div><div style=\"display: table-cell;\">data_source&nbsp;=&nbsp;ColumnDataSource(id='c6b597bc-1054-47d0-a7a2-554bca2fbc65', ...),</div></div><div class=\"ff2365b5-8794-4bb2-92f3-6f78546437c6\" style=\"display: none;\"><div style=\"display: table-cell;\"></div><div style=\"display: table-cell;\">glyph&nbsp;=&nbsp;Line(id='881957b0-0e13-42dc-be92-cd3e3425dae2', ...),</div></div><div class=\"ff2365b5-8794-4bb2-92f3-6f78546437c6\" style=\"display: none;\"><div style=\"display: table-cell;\"></div><div style=\"display: table-cell;\">hover_glyph&nbsp;=&nbsp;None,</div></div><div class=\"ff2365b5-8794-4bb2-92f3-6f78546437c6\" style=\"display: none;\"><div style=\"display: table-cell;\"></div><div style=\"display: table-cell;\">js_event_callbacks&nbsp;=&nbsp;{},</div></div><div class=\"ff2365b5-8794-4bb2-92f3-6f78546437c6\" style=\"display: none;\"><div style=\"display: table-cell;\"></div><div style=\"display: table-cell;\">js_property_callbacks&nbsp;=&nbsp;{},</div></div><div class=\"ff2365b5-8794-4bb2-92f3-6f78546437c6\" style=\"display: none;\"><div style=\"display: table-cell;\"></div><div style=\"display: table-cell;\">level&nbsp;=&nbsp;'glyph',</div></div><div class=\"ff2365b5-8794-4bb2-92f3-6f78546437c6\" style=\"display: none;\"><div style=\"display: table-cell;\"></div><div style=\"display: table-cell;\">muted&nbsp;=&nbsp;False,</div></div><div class=\"ff2365b5-8794-4bb2-92f3-6f78546437c6\" style=\"display: none;\"><div style=\"display: table-cell;\"></div><div style=\"display: table-cell;\">muted_glyph&nbsp;=&nbsp;None,</div></div><div class=\"ff2365b5-8794-4bb2-92f3-6f78546437c6\" style=\"display: none;\"><div style=\"display: table-cell;\"></div><div style=\"display: table-cell;\">name&nbsp;=&nbsp;None,</div></div><div class=\"ff2365b5-8794-4bb2-92f3-6f78546437c6\" style=\"display: none;\"><div style=\"display: table-cell;\"></div><div style=\"display: table-cell;\">nonselection_glyph&nbsp;=&nbsp;Line(id='e88a96db-1cd3-4306-88bc-bd3d151a2d83', ...),</div></div><div class=\"ff2365b5-8794-4bb2-92f3-6f78546437c6\" style=\"display: none;\"><div style=\"display: table-cell;\"></div><div style=\"display: table-cell;\">selection_glyph&nbsp;=&nbsp;None,</div></div><div class=\"ff2365b5-8794-4bb2-92f3-6f78546437c6\" style=\"display: none;\"><div style=\"display: table-cell;\"></div><div style=\"display: table-cell;\">subscribed_events&nbsp;=&nbsp;[],</div></div><div class=\"ff2365b5-8794-4bb2-92f3-6f78546437c6\" style=\"display: none;\"><div style=\"display: table-cell;\"></div><div style=\"display: table-cell;\">tags&nbsp;=&nbsp;[],</div></div><div class=\"ff2365b5-8794-4bb2-92f3-6f78546437c6\" style=\"display: none;\"><div style=\"display: table-cell;\"></div><div style=\"display: table-cell;\">view&nbsp;=&nbsp;CDSView(id='b4630fd6-c653-463b-b18c-4c0cae001601', ...),</div></div><div class=\"ff2365b5-8794-4bb2-92f3-6f78546437c6\" style=\"display: none;\"><div style=\"display: table-cell;\"></div><div style=\"display: table-cell;\">visible&nbsp;=&nbsp;True,</div></div><div class=\"ff2365b5-8794-4bb2-92f3-6f78546437c6\" style=\"display: none;\"><div style=\"display: table-cell;\"></div><div style=\"display: table-cell;\">x_range_name&nbsp;=&nbsp;'default',</div></div><div class=\"ff2365b5-8794-4bb2-92f3-6f78546437c6\" style=\"display: none;\"><div style=\"display: table-cell;\"></div><div style=\"display: table-cell;\">y_range_name&nbsp;=&nbsp;'default')</div></div></div>\n",
       "<script>\n",
       "(function() {\n",
       "  var expanded = false;\n",
       "  var ellipsis = document.getElementById(\"8b4b8cac-07e7-414d-8152-1f03e7503685\");\n",
       "  ellipsis.addEventListener(\"click\", function() {\n",
       "    var rows = document.getElementsByClassName(\"ff2365b5-8794-4bb2-92f3-6f78546437c6\");\n",
       "    for (var i = 0; i < rows.length; i++) {\n",
       "      var el = rows[i];\n",
       "      el.style.display = expanded ? \"none\" : \"table-row\";\n",
       "    }\n",
       "    ellipsis.innerHTML = expanded ? \"&hellip;)\" : \"&lsaquo;&lsaquo;&lsaquo;\";\n",
       "    expanded = !expanded;\n",
       "  });\n",
       "})();\n",
       "</script>\n"
      ],
      "text/plain": [
       "GlyphRenderer(id='11e5daa8-9970-4933-a7e3-3fc825162460', ...)"
      ]
     },
     "execution_count": 98,
     "metadata": {},
     "output_type": "execute_result"
    }
   ],
   "source": [
    "p = figure(x_axis_type=\"datetime\",plot_width=300, plot_height=300,tools='crosshair,box_select,wheel_zoom,box_zoom,reset')\n",
    "p.line(x=\"x\",y=\"y\", source=source)\n"
   ]
  },
  {
   "cell_type": "code",
   "execution_count": 18,
   "metadata": {},
   "outputs": [],
   "source": [
    "def select_data():\n",
    "    selected = df[\n",
    "        (df[\"Exp\"]==menu1.value)&\n",
    "        (df[\"StrikeRelative\"]==menu3.value)&\n",
    "        (df[\"Tail\"]==menu2.value)\n",
    "    ]\n",
    "    return selected"
   ]
  },
  {
   "cell_type": "code",
   "execution_count": 19,
   "metadata": {},
   "outputs": [],
   "source": [
    "def update():\n",
    "    df2=select_data()\n",
    "    source.data = dict(\n",
    "    x=df2['ValueDate'],\n",
    "    y=df2['ImpliedConsensusVolatility']\n",
    "    )\n",
    "    push_notebook()"
   ]
  },
  {
   "cell_type": "code",
   "execution_count": 95,
   "metadata": {},
   "outputs": [],
   "source": [
    "def update_skew(attr, old, new):\n",
    "    selected = df[\n",
    "        (df[\"Exp\"]==menu1.value)&\n",
    "        (df[\"Tail\"]==menu2.value)\n",
    "    ]\n",
    "    sort  = selected['StrikeRelative'].unique()\n",
    "    sort2 = [0.0 if x == 'ATM' else x for x in sort]\n",
    "    sort2 = list(map(int,sort2))\n",
    "    sort2.sort()\n",
    "    sort2 = list(map(str,sort2))\n",
    "    sort2 = ['ATM' if x == '0' else x for x in sort2]\n",
    "    \n",
    "    menu3.options = sort2\n",
    "    "
   ]
  },
  {
   "cell_type": "code",
   "execution_count": 21,
   "metadata": {},
   "outputs": [],
   "source": [
    "menu1.on_change(\"value\",update_skew)\n",
    "menu2.on_change(\"value\",update_skew)\n",
    "#menu4.on_change(\"value\",update_skew)"
   ]
  },
  {
   "cell_type": "code",
   "execution_count": 22,
   "metadata": {},
   "outputs": [],
   "source": [
    "controls = [menu1,menu2,menu3]"
   ]
  },
  {
   "cell_type": "code",
   "execution_count": 23,
   "metadata": {},
   "outputs": [],
   "source": [
    "for control in controls:\n",
    "    control.on_change('value', lambda attr, old, new: update())"
   ]
  },
  {
   "cell_type": "code",
   "execution_count": 24,
   "metadata": {},
   "outputs": [],
   "source": [
    "column1 = column(widgetbox(menu1),widgetbox(menu2),widgetbox(menu3))\n",
    "layout = row(column1,p)"
   ]
  },
  {
   "cell_type": "code",
   "execution_count": 25,
   "metadata": {
    "scrolled": true
   },
   "outputs": [],
   "source": [
    "show(layout,notebook_handle=True)"
   ]
  },
  {
   "cell_type": "code",
   "execution_count": 26,
   "metadata": {},
   "outputs": [],
   "source": [
    "curdoc().add_root(layout)"
   ]
  },
  {
   "cell_type": "code",
   "execution_count": null,
   "metadata": {},
   "outputs": [],
   "source": [
    "#bokeh serve --show myapp.py"
   ]
  }
 ],
 "metadata": {
  "kernelspec": {
   "display_name": "Python 3",
   "language": "python",
   "name": "python3"
  },
  "language_info": {
   "codemirror_mode": {
    "name": "ipython",
    "version": 3
   },
   "file_extension": ".py",
   "mimetype": "text/x-python",
   "name": "python",
   "nbconvert_exporter": "python",
   "pygments_lexer": "ipython3",
   "version": "3.6.3"
  }
 },
 "nbformat": 4,
 "nbformat_minor": 2
}
